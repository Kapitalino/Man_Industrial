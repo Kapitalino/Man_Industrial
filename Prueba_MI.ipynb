{
 "cells": [
  {
   "cell_type": "code",
   "execution_count": 40,
   "id": "3e1f0c1a",
   "metadata": {},
   "outputs": [
    {
     "name": "stdout",
     "output_type": "stream",
     "text": [
      "Requirement already satisfied: pandas in c:\\users\\fabia\\documents\\git_projects\\env_man_industrial\\man_industrial\\lib\\site-packages (2.0.1)\n",
      "Requirement already satisfied: pytz>=2020.1 in c:\\users\\fabia\\documents\\git_projects\\env_man_industrial\\man_industrial\\lib\\site-packages (from pandas) (2023.3)\n",
      "Requirement already satisfied: python-dateutil>=2.8.2 in c:\\users\\fabia\\documents\\git_projects\\env_man_industrial\\man_industrial\\lib\\site-packages (from pandas) (2.8.2)\n",
      "Requirement already satisfied: numpy>=1.21.0 in c:\\users\\fabia\\documents\\git_projects\\env_man_industrial\\man_industrial\\lib\\site-packages (from pandas) (1.24.3)\n",
      "Requirement already satisfied: tzdata>=2022.1 in c:\\users\\fabia\\documents\\git_projects\\env_man_industrial\\man_industrial\\lib\\site-packages (from pandas) (2023.3)\n",
      "Requirement already satisfied: six>=1.5 in c:\\users\\fabia\\documents\\git_projects\\env_man_industrial\\man_industrial\\lib\\site-packages (from python-dateutil>=2.8.2->pandas) (1.16.0)\n"
     ]
    },
    {
     "name": "stderr",
     "output_type": "stream",
     "text": [
      "\n",
      "[notice] A new release of pip available: 22.2.1 -> 23.1.1\n",
      "[notice] To update, run: python.exe -m pip install --upgrade pip\n"
     ]
    }
   ],
   "source": [
    "!pip install pandas"
   ]
  },
  {
   "cell_type": "code",
   "execution_count": 41,
   "id": "b62ca9b2",
   "metadata": {},
   "outputs": [
    {
     "name": "stdout",
     "output_type": "stream",
     "text": [
      "Requirement already satisfied: numpy in c:\\users\\fabia\\documents\\git_projects\\env_man_industrial\\man_industrial\\lib\\site-packages (1.24.3)\n"
     ]
    },
    {
     "name": "stderr",
     "output_type": "stream",
     "text": [
      "\n",
      "[notice] A new release of pip available: 22.2.1 -> 23.1.1\n",
      "[notice] To update, run: python.exe -m pip install --upgrade pip\n"
     ]
    }
   ],
   "source": [
    "!pip install numpy\n"
   ]
  },
  {
   "cell_type": "code",
   "execution_count": 42,
   "id": "f998f112",
   "metadata": {},
   "outputs": [
    {
     "name": "stdout",
     "output_type": "stream",
     "text": [
      "Requirement already satisfied: Matplotlib in c:\\users\\fabia\\documents\\git_projects\\env_man_industrial\\man_industrial\\lib\\site-packages (3.7.1)\n",
      "Requirement already satisfied: python-dateutil>=2.7 in c:\\users\\fabia\\documents\\git_projects\\env_man_industrial\\man_industrial\\lib\\site-packages (from Matplotlib) (2.8.2)\n",
      "Requirement already satisfied: fonttools>=4.22.0 in c:\\users\\fabia\\documents\\git_projects\\env_man_industrial\\man_industrial\\lib\\site-packages (from Matplotlib) (4.39.3)\n",
      "Requirement already satisfied: pyparsing>=2.3.1 in c:\\users\\fabia\\documents\\git_projects\\env_man_industrial\\man_industrial\\lib\\site-packages (from Matplotlib) (3.0.9)\n",
      "Requirement already satisfied: kiwisolver>=1.0.1 in c:\\users\\fabia\\documents\\git_projects\\env_man_industrial\\man_industrial\\lib\\site-packages (from Matplotlib) (1.4.4)\n",
      "Requirement already satisfied: numpy>=1.20 in c:\\users\\fabia\\documents\\git_projects\\env_man_industrial\\man_industrial\\lib\\site-packages (from Matplotlib) (1.24.3)\n",
      "Requirement already satisfied: cycler>=0.10 in c:\\users\\fabia\\documents\\git_projects\\env_man_industrial\\man_industrial\\lib\\site-packages (from Matplotlib) (0.11.0)\n",
      "Requirement already satisfied: contourpy>=1.0.1 in c:\\users\\fabia\\documents\\git_projects\\env_man_industrial\\man_industrial\\lib\\site-packages (from Matplotlib) (1.0.7)\n",
      "Requirement already satisfied: packaging>=20.0 in c:\\users\\fabia\\documents\\git_projects\\env_man_industrial\\man_industrial\\lib\\site-packages (from Matplotlib) (23.1)\n",
      "Requirement already satisfied: pillow>=6.2.0 in c:\\users\\fabia\\documents\\git_projects\\env_man_industrial\\man_industrial\\lib\\site-packages (from Matplotlib) (9.5.0)\n",
      "Requirement already satisfied: six>=1.5 in c:\\users\\fabia\\documents\\git_projects\\env_man_industrial\\man_industrial\\lib\\site-packages (from python-dateutil>=2.7->Matplotlib) (1.16.0)\n"
     ]
    },
    {
     "name": "stderr",
     "output_type": "stream",
     "text": [
      "\n",
      "[notice] A new release of pip available: 22.2.1 -> 23.1.1\n",
      "[notice] To update, run: python.exe -m pip install --upgrade pip\n"
     ]
    }
   ],
   "source": [
    "!pip install Matplotlib"
   ]
  },
  {
   "cell_type": "code",
   "execution_count": 43,
   "id": "4b3296d8",
   "metadata": {},
   "outputs": [
    {
     "name": "stdout",
     "output_type": "stream",
     "text": [
      "Requirement already satisfied: Scikit-learn in c:\\users\\fabia\\documents\\git_projects\\env_man_industrial\\man_industrial\\lib\\site-packages (1.2.2)"
     ]
    },
    {
     "name": "stderr",
     "output_type": "stream",
     "text": [
      "\n",
      "[notice] A new release of pip available: 22.2.1 -> 23.1.1\n",
      "[notice] To update, run: python.exe -m pip install --upgrade pip\n"
     ]
    },
    {
     "name": "stdout",
     "output_type": "stream",
     "text": [
      "\n",
      "Requirement already satisfied: scipy>=1.3.2 in c:\\users\\fabia\\documents\\git_projects\\env_man_industrial\\man_industrial\\lib\\site-packages (from Scikit-learn) (1.10.1)\n",
      "Requirement already satisfied: joblib>=1.1.1 in c:\\users\\fabia\\documents\\git_projects\\env_man_industrial\\man_industrial\\lib\\site-packages (from Scikit-learn) (1.2.0)\n",
      "Requirement already satisfied: threadpoolctl>=2.0.0 in c:\\users\\fabia\\documents\\git_projects\\env_man_industrial\\man_industrial\\lib\\site-packages (from Scikit-learn) (3.1.0)\n",
      "Requirement already satisfied: numpy>=1.17.3 in c:\\users\\fabia\\documents\\git_projects\\env_man_industrial\\man_industrial\\lib\\site-packages (from Scikit-learn) (1.24.3)\n"
     ]
    }
   ],
   "source": [
    "!pip install Scikit-learn"
   ]
  },
  {
   "cell_type": "code",
   "execution_count": 57,
   "id": "f4f1d403",
   "metadata": {},
   "outputs": [],
   "source": [
    "import pandas as pd\n",
    "import numpy as np\n",
    "import matplotlib.pyplot as plt\n",
    "from sklearn.model_selection import train_test_split"
   ]
  },
  {
   "cell_type": "code",
   "execution_count": 58,
   "id": "d0a26156",
   "metadata": {},
   "outputs": [],
   "source": [
    "url = \"https://raw.githubusercontent.com/Kapitalino/Man_Industrial/main/predictive-maintenance-dataset.csv\"\n",
    "df = pd.read_csv(url)"
   ]
  },
  {
   "cell_type": "code",
   "execution_count": 59,
   "id": "13b349ad",
   "metadata": {},
   "outputs": [
    {
     "data": {
      "text/html": [
       "<div>\n",
       "<style scoped>\n",
       "    .dataframe tbody tr th:only-of-type {\n",
       "        vertical-align: middle;\n",
       "    }\n",
       "\n",
       "    .dataframe tbody tr th {\n",
       "        vertical-align: top;\n",
       "    }\n",
       "\n",
       "    .dataframe thead th {\n",
       "        text-align: right;\n",
       "    }\n",
       "</style>\n",
       "<table border=\"1\" class=\"dataframe\">\n",
       "  <thead>\n",
       "    <tr style=\"text-align: right;\">\n",
       "      <th></th>\n",
       "      <th>ID</th>\n",
       "      <th>revolutions</th>\n",
       "      <th>humidity</th>\n",
       "      <th>vibration</th>\n",
       "      <th>x1</th>\n",
       "      <th>x2</th>\n",
       "      <th>x3</th>\n",
       "      <th>x4</th>\n",
       "      <th>x5</th>\n",
       "    </tr>\n",
       "  </thead>\n",
       "  <tbody>\n",
       "    <tr>\n",
       "      <th>0</th>\n",
       "      <td>1</td>\n",
       "      <td>93.744</td>\n",
       "      <td>73.999</td>\n",
       "      <td>18.0</td>\n",
       "      <td>167.743</td>\n",
       "      <td>19.745</td>\n",
       "      <td>1.266828</td>\n",
       "      <td>8787.937536</td>\n",
       "      <td>5475.852001</td>\n",
       "    </tr>\n",
       "    <tr>\n",
       "      <th>1</th>\n",
       "      <td>2</td>\n",
       "      <td>93.740</td>\n",
       "      <td>73.999</td>\n",
       "      <td>18.0</td>\n",
       "      <td>167.739</td>\n",
       "      <td>19.741</td>\n",
       "      <td>1.266774</td>\n",
       "      <td>8787.187600</td>\n",
       "      <td>5475.852001</td>\n",
       "    </tr>\n",
       "    <tr>\n",
       "      <th>2</th>\n",
       "      <td>3</td>\n",
       "      <td>93.736</td>\n",
       "      <td>73.998</td>\n",
       "      <td>18.0</td>\n",
       "      <td>167.734</td>\n",
       "      <td>19.738</td>\n",
       "      <td>1.266737</td>\n",
       "      <td>8786.437696</td>\n",
       "      <td>5475.704004</td>\n",
       "    </tr>\n",
       "    <tr>\n",
       "      <th>3</th>\n",
       "      <td>4</td>\n",
       "      <td>93.732</td>\n",
       "      <td>73.998</td>\n",
       "      <td>18.0</td>\n",
       "      <td>167.730</td>\n",
       "      <td>19.734</td>\n",
       "      <td>1.266683</td>\n",
       "      <td>8785.687824</td>\n",
       "      <td>5475.704004</td>\n",
       "    </tr>\n",
       "    <tr>\n",
       "      <th>4</th>\n",
       "      <td>5</td>\n",
       "      <td>93.729</td>\n",
       "      <td>73.998</td>\n",
       "      <td>18.0</td>\n",
       "      <td>167.727</td>\n",
       "      <td>19.731</td>\n",
       "      <td>1.266642</td>\n",
       "      <td>8785.125441</td>\n",
       "      <td>5475.704004</td>\n",
       "    </tr>\n",
       "  </tbody>\n",
       "</table>\n",
       "</div>"
      ],
      "text/plain": [
       "   ID  revolutions  humidity  vibration       x1      x2        x3   \n",
       "0   1       93.744    73.999       18.0  167.743  19.745  1.266828  \\\n",
       "1   2       93.740    73.999       18.0  167.739  19.741  1.266774   \n",
       "2   3       93.736    73.998       18.0  167.734  19.738  1.266737   \n",
       "3   4       93.732    73.998       18.0  167.730  19.734  1.266683   \n",
       "4   5       93.729    73.998       18.0  167.727  19.731  1.266642   \n",
       "\n",
       "            x4           x5  \n",
       "0  8787.937536  5475.852001  \n",
       "1  8787.187600  5475.852001  \n",
       "2  8786.437696  5475.704004  \n",
       "3  8785.687824  5475.704004  \n",
       "4  8785.125441  5475.704004  "
      ]
     },
     "execution_count": 59,
     "metadata": {},
     "output_type": "execute_result"
    }
   ],
   "source": [
    "df.head()"
   ]
  },
  {
   "cell_type": "code",
   "execution_count": 47,
   "id": "59450d26",
   "metadata": {},
   "outputs": [
    {
     "name": "stdout",
     "output_type": "stream",
     "text": [
      "<class 'pandas.core.frame.DataFrame'>\n",
      "RangeIndex: 112001 entries, 0 to 112000\n",
      "Data columns (total 9 columns):\n",
      " #   Column       Non-Null Count   Dtype  \n",
      "---  ------       --------------   -----  \n",
      " 0   ID           112001 non-null  int64  \n",
      " 1   revolutions  112001 non-null  float64\n",
      " 2   humidity     112001 non-null  float64\n",
      " 3   vibration    109563 non-null  float64\n",
      " 4   x1           112001 non-null  float64\n",
      " 5   x2           112001 non-null  float64\n",
      " 6   x3           112001 non-null  float64\n",
      " 7   x4           112001 non-null  float64\n",
      " 8   x5           112001 non-null  float64\n",
      "dtypes: float64(8), int64(1)\n",
      "memory usage: 7.7 MB\n"
     ]
    }
   ],
   "source": [
    "# Mostrar información sobre el dataframe\n",
    "df.info()"
   ]
  },
  {
   "cell_type": "code",
   "execution_count": 48,
   "id": "04ba287f",
   "metadata": {},
   "outputs": [
    {
     "data": {
      "text/html": [
       "<div>\n",
       "<style scoped>\n",
       "    .dataframe tbody tr th:only-of-type {\n",
       "        vertical-align: middle;\n",
       "    }\n",
       "\n",
       "    .dataframe tbody tr th {\n",
       "        vertical-align: top;\n",
       "    }\n",
       "\n",
       "    .dataframe thead th {\n",
       "        text-align: right;\n",
       "    }\n",
       "</style>\n",
       "<table border=\"1\" class=\"dataframe\">\n",
       "  <thead>\n",
       "    <tr style=\"text-align: right;\">\n",
       "      <th></th>\n",
       "      <th>ID</th>\n",
       "      <th>revolutions</th>\n",
       "      <th>humidity</th>\n",
       "      <th>vibration</th>\n",
       "      <th>x1</th>\n",
       "      <th>x2</th>\n",
       "      <th>x3</th>\n",
       "      <th>x4</th>\n",
       "      <th>x5</th>\n",
       "    </tr>\n",
       "  </thead>\n",
       "  <tbody>\n",
       "    <tr>\n",
       "      <th>count</th>\n",
       "      <td>112001.000000</td>\n",
       "      <td>112001.000000</td>\n",
       "      <td>112001.000000</td>\n",
       "      <td>109563.000000</td>\n",
       "      <td>112001.000000</td>\n",
       "      <td>112001.000000</td>\n",
       "      <td>112001.000000</td>\n",
       "      <td>112001.000000</td>\n",
       "      <td>112001.000000</td>\n",
       "    </tr>\n",
       "    <tr>\n",
       "      <th>mean</th>\n",
       "      <td>56001.000000</td>\n",
       "      <td>46.275195</td>\n",
       "      <td>74.224140</td>\n",
       "      <td>28.340276</td>\n",
       "      <td>120.499335</td>\n",
       "      <td>-27.948945</td>\n",
       "      <td>0.623759</td>\n",
       "      <td>2503.994994</td>\n",
       "      <td>5509.691804</td>\n",
       "    </tr>\n",
       "    <tr>\n",
       "      <th>std</th>\n",
       "      <td>32332.048087</td>\n",
       "      <td>19.042179</td>\n",
       "      <td>0.684711</td>\n",
       "      <td>24.292500</td>\n",
       "      <td>18.984921</td>\n",
       "      <td>19.123796</td>\n",
       "      <td>0.258677</td>\n",
       "      <td>1874.972912</td>\n",
       "      <td>101.395621</td>\n",
       "    </tr>\n",
       "    <tr>\n",
       "      <th>min</th>\n",
       "      <td>1.000000</td>\n",
       "      <td>16.933000</td>\n",
       "      <td>72.399000</td>\n",
       "      <td>2.000000</td>\n",
       "      <td>90.132000</td>\n",
       "      <td>-56.353000</td>\n",
       "      <td>0.231328</td>\n",
       "      <td>286.726489</td>\n",
       "      <td>5241.615201</td>\n",
       "    </tr>\n",
       "    <tr>\n",
       "      <th>25%</th>\n",
       "      <td>28001.000000</td>\n",
       "      <td>29.651000</td>\n",
       "      <td>73.914000</td>\n",
       "      <td>8.000000</td>\n",
       "      <td>103.850000</td>\n",
       "      <td>-44.548000</td>\n",
       "      <td>0.399615</td>\n",
       "      <td>879.181801</td>\n",
       "      <td>5463.279396</td>\n",
       "    </tr>\n",
       "    <tr>\n",
       "      <th>50%</th>\n",
       "      <td>56001.000000</td>\n",
       "      <td>43.348000</td>\n",
       "      <td>74.212000</td>\n",
       "      <td>21.280000</td>\n",
       "      <td>117.640000</td>\n",
       "      <td>-31.443000</td>\n",
       "      <td>0.580561</td>\n",
       "      <td>1879.049104</td>\n",
       "      <td>5507.420944</td>\n",
       "    </tr>\n",
       "    <tr>\n",
       "      <th>75%</th>\n",
       "      <td>84001.000000</td>\n",
       "      <td>63.997000</td>\n",
       "      <td>74.731000</td>\n",
       "      <td>39.210000</td>\n",
       "      <td>138.119000</td>\n",
       "      <td>-10.012000</td>\n",
       "      <td>0.865330</td>\n",
       "      <td>4095.616009</td>\n",
       "      <td>5584.722361</td>\n",
       "    </tr>\n",
       "    <tr>\n",
       "      <th>max</th>\n",
       "      <td>112001.000000</td>\n",
       "      <td>93.744000</td>\n",
       "      <td>75.400000</td>\n",
       "      <td>100.000000</td>\n",
       "      <td>167.743000</td>\n",
       "      <td>19.745000</td>\n",
       "      <td>1.266828</td>\n",
       "      <td>8787.937536</td>\n",
       "      <td>5685.160000</td>\n",
       "    </tr>\n",
       "  </tbody>\n",
       "</table>\n",
       "</div>"
      ],
      "text/plain": [
       "                  ID    revolutions       humidity      vibration   \n",
       "count  112001.000000  112001.000000  112001.000000  109563.000000  \\\n",
       "mean    56001.000000      46.275195      74.224140      28.340276   \n",
       "std     32332.048087      19.042179       0.684711      24.292500   \n",
       "min         1.000000      16.933000      72.399000       2.000000   \n",
       "25%     28001.000000      29.651000      73.914000       8.000000   \n",
       "50%     56001.000000      43.348000      74.212000      21.280000   \n",
       "75%     84001.000000      63.997000      74.731000      39.210000   \n",
       "max    112001.000000      93.744000      75.400000     100.000000   \n",
       "\n",
       "                  x1             x2             x3             x4   \n",
       "count  112001.000000  112001.000000  112001.000000  112001.000000  \\\n",
       "mean      120.499335     -27.948945       0.623759    2503.994994   \n",
       "std        18.984921      19.123796       0.258677    1874.972912   \n",
       "min        90.132000     -56.353000       0.231328     286.726489   \n",
       "25%       103.850000     -44.548000       0.399615     879.181801   \n",
       "50%       117.640000     -31.443000       0.580561    1879.049104   \n",
       "75%       138.119000     -10.012000       0.865330    4095.616009   \n",
       "max       167.743000      19.745000       1.266828    8787.937536   \n",
       "\n",
       "                  x5  \n",
       "count  112001.000000  \n",
       "mean     5509.691804  \n",
       "std       101.395621  \n",
       "min      5241.615201  \n",
       "25%      5463.279396  \n",
       "50%      5507.420944  \n",
       "75%      5584.722361  \n",
       "max      5685.160000  "
      ]
     },
     "execution_count": 48,
     "metadata": {},
     "output_type": "execute_result"
    }
   ],
   "source": [
    "# Mostrar estadísticas descriptivas del dataframe\n",
    "df.describe()"
   ]
  },
  {
   "cell_type": "code",
   "execution_count": 49,
   "id": "5d73546c",
   "metadata": {},
   "outputs": [
    {
     "data": {
      "text/plain": [
       "(array([22896.,  6612., 14172., 23837.,  2131.,  7493., 25469.,  5410.,\n",
       "         1990.,  1991.]),\n",
       " array([16.933 , 24.6141, 32.2952, 39.9763, 47.6574, 55.3385, 63.0196,\n",
       "        70.7007, 78.3818, 86.0629, 93.744 ]),\n",
       " <BarContainer object of 10 artists>)"
      ]
     },
     "execution_count": 49,
     "metadata": {},
     "output_type": "execute_result"
    },
    {
     "data": {
      "image/png": "[encoded data removed]",
      "text/plain": [
       "<Figure size 640x480 with 1 Axes>"
      ]
     },
     "metadata": {},
     "output_type": "display_data"
    }
   ],
   "source": [
    "\n",
    "# Crear un histograma de una columna del dataframe\n",
    "plt.hist(df['revolutions'])\n"
   ]
  },
  {
   "cell_type": "code",
   "execution_count": 50,
   "id": "47d282b7",
   "metadata": {},
   "outputs": [
    {
     "data": {
      "text/plain": [
       "<matplotlib.collections.PathCollection at 0x1bb6c8a4760>"
      ]
     },
     "execution_count": 50,
     "metadata": {},
     "output_type": "execute_result"
    },
    {
     "data": {
      "image/png": "[encoded data removed]",
      "text/plain": [
       "<Figure size 640x480 with 1 Axes>"
      ]
     },
     "metadata": {},
     "output_type": "display_data"
    }
   ],
   "source": [
    "\n",
    "# Crear un scatterplot de dos columnas del dataframe\n",
    "plt.scatter(df['humidity'], df['vibration'])"
   ]
  },
  {
   "cell_type": "code",
   "execution_count": 51,
   "id": "9ecffd0e",
   "metadata": {},
   "outputs": [],
   "source": [
    "# Reemplazar los valores faltantes con la media de la columna\n",
    "df.fillna(df.mean(), inplace=True)"
   ]
  },
  {
   "cell_type": "code",
   "execution_count": 52,
   "id": "190117c6",
   "metadata": {},
   "outputs": [
    {
     "name": "stdout",
     "output_type": "stream",
     "text": [
      "<class 'pandas.core.frame.DataFrame'>\n",
      "RangeIndex: 112001 entries, 0 to 112000\n",
      "Data columns (total 9 columns):\n",
      " #   Column       Non-Null Count   Dtype  \n",
      "---  ------       --------------   -----  \n",
      " 0   ID           112001 non-null  int64  \n",
      " 1   revolutions  112001 non-null  float64\n",
      " 2   humidity     112001 non-null  float64\n",
      " 3   vibration    112001 non-null  float64\n",
      " 4   x1           112001 non-null  float64\n",
      " 5   x2           112001 non-null  float64\n",
      " 6   x3           112001 non-null  float64\n",
      " 7   x4           112001 non-null  float64\n",
      " 8   x5           112001 non-null  float64\n",
      "dtypes: float64(8), int64(1)\n",
      "memory usage: 7.7 MB\n"
     ]
    }
   ],
   "source": [
    "df.info()"
   ]
  },
  {
   "cell_type": "code",
   "execution_count": 53,
   "id": "3be51c9c",
   "metadata": {},
   "outputs": [],
   "source": [
    "\n",
    "# Eliminar las filas con valores faltantes\n",
    "df.dropna(inplace=True)"
   ]
  },
  {
   "cell_type": "code",
   "execution_count": 54,
   "id": "2ca2549b",
   "metadata": {},
   "outputs": [],
   "source": [
    "from sklearn.tree import DecisionTreeRegressor\n",
    "from sklearn.model_selection import train_test_split\n",
    "from sklearn.metrics import mean_squared_error\n",
    "\n",
    "# Seleccionar las columnas que corresponden a las variables de entrada (sensores) y la columna objetivo (vibración)\n",
    "X = df.iloc[:, 1:8] # Seleccionar las columnas de los sensores\n",
    "y = df.iloc[:, 3] # Seleccionar la columna objetivo (vibración)\n",
    "\n",
    "# Dividir los datos en conjunto de entrenamiento y prueba\n",
    "X_train, X_test, y_train, y_test = train_test_split(X, y, test_size=0.2, random_state=42)"
   ]
  },
  {
   "cell_type": "code",
   "execution_count": 55,
   "id": "154e531d",
   "metadata": {},
   "outputs": [
    {
     "name": "stdout",
     "output_type": "stream",
     "text": [
      "MSE: 0.5429596781096445\n"
     ]
    }
   ],
   "source": [
    "# Crear una instancia del modelo de árbol de decisión\n",
    "model = DecisionTreeRegressor(max_depth=5)\n",
    "\n",
    "# Entrenar el modelo con los datos de entrenamiento\n",
    "model.fit(X_train, y_train)\n",
    "\n",
    "# Realizar predicciones con los datos de prueba\n",
    "y_pred = model.predict(X_test)\n",
    "\n",
    "# Evaluar el rendimiento del modelo utilizando el error cuadrático medio (MSE)\n",
    "mse = mean_squared_error(y_test, y_pred)\n",
    "print(\"MSE:\", mse)\n"
   ]
  },
  {
   "cell_type": "code",
   "execution_count": 62,
   "id": "0e7e4d12",
   "metadata": {},
   "outputs": [
    {
     "name": "stdout",
     "output_type": "stream",
     "text": [
      "MSE: 2.975045759940454e-06\n"
     ]
    }
   ],
   "source": [
    "from sklearn.ensemble import RandomForestRegressor\n",
    "from sklearn.model_selection import train_test_split\n",
    "from sklearn.metrics import mean_squared_error\n",
    "\n",
    "# Dividir los datos en entrenamiento y prueba\n",
    "X_train, X_test, y_train, y_test = train_test_split(X, y, test_size=0.2, random_state=42)\n",
    "\n",
    "# Entrenar un modelo de Bosques aleatorios\n",
    "rf = RandomForestRegressor(n_estimators=100, random_state=42)\n",
    "rf.fit(X_train, y_train)\n",
    "\n",
    "# Realizar predicciones en los datos de prueba\n",
    "y_pred = rf.predict(X_test)\n",
    "\n",
    "# Calcular el error cuadrático medio (MSE) en los datos de prueba\n",
    "mse = mean_squared_error(y_test, y_pred)\n",
    "\n",
    "# Imprimir el valor del MSE\n",
    "print(\"MSE:\", mse)"
   ]
  },
  {
   "cell_type": "code",
   "execution_count": 64,
   "id": "47aa44bc",
   "metadata": {},
   "outputs": [
    {
     "name": "stdout",
     "output_type": "stream",
     "text": [
      "MSE: 7.738851627716978e-24\n",
      "R²: 1.0\n"
     ]
    }
   ],
   "source": [
    "from sklearn.linear_model import LinearRegression\n",
    "from sklearn.metrics import r2_score\n",
    "# Separar el conjunto de entrenamiento y prueba\n",
    "X_train, X_test, y_train, y_test = train_test_split(X, y, test_size=0.2, random_state=42)\n",
    "\n",
    "# Crear modelo de regresión lineal\n",
    "reg = LinearRegression()\n",
    "\n",
    "# Entrenar el modelo con los datos de entrenamiento\n",
    "reg.fit(X_train, y_train)\n",
    "\n",
    "# Predecir los valores de y para los datos de prueba\n",
    "y_pred = reg.predict(X_test)\n",
    "\n",
    "# Calcular el MSE y R²\n",
    "mse = mean_squared_error(y_test, y_pred)\n",
    "r2 = r2_score(y_test, y_pred)\n",
    "\n",
    "print(\"MSE:\", mse)\n",
    "print(\"R²:\", r2)"
   ]
  },
  {
   "cell_type": "code",
   "execution_count": 68,
   "id": "115f1498",
   "metadata": {},
   "outputs": [
    {
     "name": "stdout",
     "output_type": "stream",
     "text": [
      "Collecting tensorflow\n",
      "  Using cached tensorflow-2.12.0-cp310-cp310-win_amd64.whl (1.9 kB)\n",
      "Collecting tensorflow-intel==2.12.0\n",
      "  Using cached tensorflow_intel-2.12.0-cp310-cp310-win_amd64.whl (272.8 MB)\n",
      "Requirement already satisfied: termcolor>=1.1.0 in c:\\users\\fabia\\documents\\git_projects\\env_man_industrial\\man_industrial\\lib\\site-packages (from tensorflow-intel==2.12.0->tensorflow) (2.3.0)\n",
      "Requirement already satisfied: tensorflow-estimator<2.13,>=2.12.0 in c:\\users\\fabia\\documents\\git_projects\\env_man_industrial\\man_industrial\\lib\\site-packages (from tensorflow-intel==2.12.0->tensorflow) (2.12.0)\n",
      "Collecting google-pasta>=0.1.1\n",
      "  Using cached google_pasta-0.2.0-py3-none-any.whl (57 kB)\n",
      "Collecting tensorboard<2.13,>=2.12\n",
      "  Using cached tensorboard-2.12.2-py3-none-any.whl (5.6 MB)\n",
      "Collecting h5py>=2.9.0\n",
      "  Using cached h5py-3.8.0-cp310-cp310-win_amd64.whl (2.6 MB)\n",
      "Requirement already satisfied: tensorflow-io-gcs-filesystem>=0.23.1 in c:\\users\\fabia\\documents\\git_projects\\env_man_industrial\\man_industrial\\lib\\site-packages (from tensorflow-intel==2.12.0->tensorflow) (0.31.0)\n",
      "Collecting opt-einsum>=2.3.2\n",
      "  Using cached opt_einsum-3.3.0-py3-none-any.whl (65 kB)\n",
      "Collecting keras<2.13,>=2.12.0\n",
      "  Using cached keras-2.12.0-py2.py3-none-any.whl (1.7 MB)\n",
      "Collecting absl-py>=1.0.0\n",
      "  Using cached absl_py-1.4.0-py3-none-any.whl (126 kB)\n",
      "Requirement already satisfied: wrapt<1.15,>=1.11.0 in c:\\users\\fabia\\documents\\git_projects\\env_man_industrial\\man_industrial\\lib\\site-packages (from tensorflow-intel==2.12.0->tensorflow) (1.14.1)\n",
      "Collecting astunparse>=1.6.0\n",
      "  Using cached astunparse-1.6.3-py2.py3-none-any.whl (12 kB)\n",
      "Requirement already satisfied: setuptools in c:\\users\\fabia\\documents\\git_projects\\env_man_industrial\\man_industrial\\lib\\site-packages (from tensorflow-intel==2.12.0->tensorflow) (63.2.0)\n",
      "Requirement already satisfied: packaging in c:\\users\\fabia\\documents\\git_projects\\env_man_industrial\\man_industrial\\lib\\site-packages (from tensorflow-intel==2.12.0->tensorflow) (23.1)\n",
      "Collecting jax>=0.3.15\n",
      "  Using cached jax-0.4.8-py3-none-any.whl\n",
      "Requirement already satisfied: flatbuffers>=2.0 in c:\\users\\fabia\\documents\\git_projects\\env_man_industrial\\man_industrial\\lib\\site-packages (from tensorflow-intel==2.12.0->tensorflow) (23.3.3)\n",
      "Requirement already satisfied: libclang>=13.0.0 in c:\\users\\fabia\\documents\\git_projects\\env_man_industrial\\man_industrial\\lib\\site-packages (from tensorflow-intel==2.12.0->tensorflow) (16.0.0)\n",
      "Requirement already satisfied: protobuf!=4.21.0,!=4.21.1,!=4.21.2,!=4.21.3,!=4.21.4,!=4.21.5,<5.0.0dev,>=3.20.3 in c:\\users\\fabia\\documents\\git_projects\\env_man_industrial\\man_industrial\\lib\\site-packages (from tensorflow-intel==2.12.0->tensorflow) (4.22.3)\n",
      "Requirement already satisfied: numpy<1.24,>=1.22 in c:\\users\\fabia\\documents\\git_projects\\env_man_industrial\\man_industrial\\lib\\site-packages (from tensorflow-intel==2.12.0->tensorflow) (1.23.5)\n",
      "Collecting gast<=0.4.0,>=0.2.1\n",
      "  Using cached gast-0.4.0-py3-none-any.whl (9.8 kB)\n",
      "Collecting grpcio<2.0,>=1.24.3\n",
      "  Using cached grpcio-1.54.0-cp310-cp310-win_amd64.whl (4.1 MB)\n",
      "Requirement already satisfied: typing-extensions>=3.6.6 in c:\\users\\fabia\\documents\\git_projects\\env_man_industrial\\man_industrial\\lib\\site-packages (from tensorflow-intel==2.12.0->tensorflow) (4.5.0)\n",
      "Requirement already satisfied: six>=1.12.0 in c:\\users\\fabia\\documents\\git_projects\\env_man_industrial\\man_industrial\\lib\\site-packages (from tensorflow-intel==2.12.0->tensorflow) (1.16.0)\n",
      "Requirement already satisfied: wheel<1.0,>=0.23.0 in c:\\users\\fabia\\documents\\git_projects\\env_man_industrial\\man_industrial\\lib\\site-packages (from astunparse>=1.6.0->tensorflow-intel==2.12.0->tensorflow) (0.40.0)\n",
      "Collecting ml-dtypes>=0.0.3\n",
      "  Using cached ml_dtypes-0.1.0-cp310-cp310-win_amd64.whl (120 kB)\n",
      "Requirement already satisfied: scipy>=1.7 in c:\\users\\fabia\\documents\\git_projects\\env_man_industrial\\man_industrial\\lib\\site-packages (from jax>=0.3.15->tensorflow-intel==2.12.0->tensorflow) (1.10.1)\n",
      "Requirement already satisfied: tensorboard-plugin-wit>=1.6.0 in c:\\users\\fabia\\documents\\git_projects\\env_man_industrial\\man_industrial\\lib\\site-packages (from tensorboard<2.13,>=2.12->tensorflow-intel==2.12.0->tensorflow) (1.8.1)\n",
      "Requirement already satisfied: werkzeug>=1.0.1 in c:\\users\\fabia\\documents\\git_projects\\env_man_industrial\\man_industrial\\lib\\site-packages (from tensorboard<2.13,>=2.12->tensorflow-intel==2.12.0->tensorflow) (2.3.0)\n",
      "Collecting markdown>=2.6.8\n",
      "  Using cached Markdown-3.4.3-py3-none-any.whl (93 kB)\n",
      "Collecting requests<3,>=2.21.0\n",
      "  Using cached requests-2.28.2-py3-none-any.whl (62 kB)\n",
      "Collecting google-auth<3,>=1.6.3\n",
      "  Using cached google_auth-2.17.3-py2.py3-none-any.whl (178 kB)\n",
      "Collecting google-auth-oauthlib<1.1,>=0.5\n",
      "  Using cached google_auth_oauthlib-1.0.0-py2.py3-none-any.whl (18 kB)\n",
      "Requirement already satisfied: tensorboard-data-server<0.8.0,>=0.7.0 in c:\\users\\fabia\\documents\\git_projects\\env_man_industrial\\man_industrial\\lib\\site-packages (from tensorboard<2.13,>=2.12->tensorflow-intel==2.12.0->tensorflow) (0.7.0)\n",
      "Collecting rsa<5,>=3.1.4\n",
      "  Using cached rsa-4.9-py3-none-any.whl (34 kB)\n",
      "Collecting pyasn1-modules>=0.2.1\n",
      "  Using cached pyasn1_modules-0.3.0-py2.py3-none-any.whl (181 kB)\n",
      "Collecting cachetools<6.0,>=2.0.0\n",
      "  Using cached cachetools-5.3.0-py3-none-any.whl (9.3 kB)\n",
      "Collecting requests-oauthlib>=0.7.0\n",
      "  Using cached requests_oauthlib-1.3.1-py2.py3-none-any.whl (23 kB)\n",
      "Requirement already satisfied: idna<4,>=2.5 in c:\\users\\fabia\\documents\\git_projects\\env_man_industrial\\man_industrial\\lib\\site-packages (from requests<3,>=2.21.0->tensorboard<2.13,>=2.12->tensorflow-intel==2.12.0->tensorflow) (3.4)\n",
      "Requirement already satisfied: urllib3<1.27,>=1.21.1 in c:\\users\\fabia\\documents\\git_projects\\env_man_industrial\\man_industrial\\lib\\site-packages (from requests<3,>=2.21.0->tensorboard<2.13,>=2.12->tensorflow-intel==2.12.0->tensorflow) (1.26.15)\n",
      "Collecting charset-normalizer<4,>=2\n",
      "  Using cached charset_normalizer-3.1.0-cp310-cp310-win_amd64.whl (97 kB)\n",
      "Collecting certifi>=2017.4.17\n",
      "  Using cached certifi-2022.12.7-py3-none-any.whl (155 kB)\n",
      "Requirement already satisfied: MarkupSafe>=2.1.1 in c:\\users\\fabia\\documents\\git_projects\\env_man_industrial\\man_industrial\\lib\\site-packages (from werkzeug>=1.0.1->tensorboard<2.13,>=2.12->tensorflow-intel==2.12.0->tensorflow) (2.1.2)\n",
      "Requirement already satisfied: pyasn1<0.6.0,>=0.4.6 in c:\\users\\fabia\\documents\\git_projects\\env_man_industrial\\man_industrial\\lib\\site-packages (from pyasn1-modules>=0.2.1->google-auth<3,>=1.6.3->tensorboard<2.13,>=2.12->tensorflow-intel==2.12.0->tensorflow) (0.5.0)\n",
      "Requirement already satisfied: oauthlib>=3.0.0 in c:\\users\\fabia\\documents\\git_projects\\env_man_industrial\\man_industrial\\lib\\site-packages (from requests-oauthlib>=0.7.0->google-auth-oauthlib<1.1,>=0.5->tensorboard<2.13,>=2.12->tensorflow-intel==2.12.0->tensorflow) (3.2.2)\n",
      "Installing collected packages: rsa, pyasn1-modules, opt-einsum, ml-dtypes, markdown, keras, h5py, grpcio, google-pasta, gast, charset-normalizer, certifi, cachetools, astunparse, absl-py, requests, jax, google-auth, requests-oauthlib, google-auth-oauthlib, tensorboard, tensorflow-intel, tensorflow\n",
      "Successfully installed absl-py-1.4.0 astunparse-1.6.3 cachetools-5.3.0 certifi-2022.12.7 charset-normalizer-3.1.0 gast-0.4.0 google-auth-2.17.3 google-auth-oauthlib-1.0.0 google-pasta-0.2.0 grpcio-1.54.0 h5py-3.8.0 jax-0.4.8 keras-2.12.0 markdown-3.4.3 ml-dtypes-0.1.0 opt-einsum-3.3.0 pyasn1-modules-0.3.0 requests-2.28.2 requests-oauthlib-1.3.1 rsa-4.9 tensorboard-2.12.2 tensorflow-2.12.0 tensorflow-intel-2.12.0\n"
     ]
    },
    {
     "name": "stderr",
     "output_type": "stream",
     "text": [
      "\n",
      "[notice] A new release of pip available: 22.2.1 -> 23.1.1\n",
      "[notice] To update, run: python.exe -m pip install --upgrade pip\n"
     ]
    }
   ],
   "source": [
    "!pip install tensorflow"
   ]
  },
  {
   "cell_type": "code",
   "execution_count": null,
   "id": "2ed2b8c3",
   "metadata": {},
   "outputs": [],
   "source": []
  }
 ],
 "metadata": {
  "kernelspec": {
   "display_name": "Python 3 (ipykernel)",
   "language": "python",
   "name": "python3"
  },
  "language_info": {
   "codemirror_mode": {
    "name": "ipython",
    "version": 3
   },
   "file_extension": ".py",
   "mimetype": "text/x-python",
   "name": "python",
   "nbconvert_exporter": "python",
   "pygments_lexer": "ipython3",
   "version": "3.10.6"
  }
 },
 "nbformat": 4,
 "nbformat_minor": 5
}
